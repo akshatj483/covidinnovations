{
 "cells": [
  {
   "cell_type": "markdown",
   "metadata": {},
   "source": [
    "\n",
    "\n",
    "# Step 1: Install Packages\n",
    "\n"
   ]
  },
  {
   "cell_type": "code",
   "execution_count": 1,
   "metadata": {},
   "outputs": [
    {
     "name": "stderr",
     "output_type": "stream",
     "text": [
      "UsageError: unrecognized arguments: command supresses output of the console. Delete it while installing to see console info.\n"
     ]
    }
   ],
   "source": [
    "%%capture #This command supresses output of the console. Delete it while installing to see console info.\n",
    "conda install pandas"
   ]
  },
  {
   "cell_type": "code",
   "execution_count": 2,
   "metadata": {},
   "outputs": [
    {
     "ename": "ValueError",
     "evalue": "The python kernel does not appear to be a conda environment.  Please use ``%pip install`` instead.",
     "output_type": "error",
     "traceback": [
      "\u001b[0;31m---------------------------------------------------------------------------\u001b[0m",
      "\u001b[0;31mValueError\u001b[0m                                Traceback (most recent call last)",
      "\u001b[0;32m<ipython-input-2-f84a725ceecb>\u001b[0m in \u001b[0;36m<module>\u001b[0;34m\u001b[0m\n\u001b[0;32m----> 1\u001b[0;31m \u001b[0mget_ipython\u001b[0m\u001b[0;34m(\u001b[0m\u001b[0;34m)\u001b[0m\u001b[0;34m.\u001b[0m\u001b[0mrun_line_magic\u001b[0m\u001b[0;34m(\u001b[0m\u001b[0;34m'conda'\u001b[0m\u001b[0;34m,\u001b[0m \u001b[0;34m'install matplotlib'\u001b[0m\u001b[0;34m)\u001b[0m\u001b[0;34m\u001b[0m\u001b[0;34m\u001b[0m\u001b[0m\n\u001b[0m",
      "\u001b[0;32m/usr/local/lib/python3.7/site-packages/IPython/core/interactiveshell.py\u001b[0m in \u001b[0;36mrun_line_magic\u001b[0;34m(self, magic_name, line, _stack_depth)\u001b[0m\n\u001b[1;32m   2315\u001b[0m                 \u001b[0mkwargs\u001b[0m\u001b[0;34m[\u001b[0m\u001b[0;34m'local_ns'\u001b[0m\u001b[0;34m]\u001b[0m \u001b[0;34m=\u001b[0m \u001b[0msys\u001b[0m\u001b[0;34m.\u001b[0m\u001b[0m_getframe\u001b[0m\u001b[0;34m(\u001b[0m\u001b[0mstack_depth\u001b[0m\u001b[0;34m)\u001b[0m\u001b[0;34m.\u001b[0m\u001b[0mf_locals\u001b[0m\u001b[0;34m\u001b[0m\u001b[0;34m\u001b[0m\u001b[0m\n\u001b[1;32m   2316\u001b[0m             \u001b[0;32mwith\u001b[0m \u001b[0mself\u001b[0m\u001b[0;34m.\u001b[0m\u001b[0mbuiltin_trap\u001b[0m\u001b[0;34m:\u001b[0m\u001b[0;34m\u001b[0m\u001b[0;34m\u001b[0m\u001b[0m\n\u001b[0;32m-> 2317\u001b[0;31m                 \u001b[0mresult\u001b[0m \u001b[0;34m=\u001b[0m \u001b[0mfn\u001b[0m\u001b[0;34m(\u001b[0m\u001b[0;34m*\u001b[0m\u001b[0margs\u001b[0m\u001b[0;34m,\u001b[0m \u001b[0;34m**\u001b[0m\u001b[0mkwargs\u001b[0m\u001b[0;34m)\u001b[0m\u001b[0;34m\u001b[0m\u001b[0;34m\u001b[0m\u001b[0m\n\u001b[0m\u001b[1;32m   2318\u001b[0m             \u001b[0;32mreturn\u001b[0m \u001b[0mresult\u001b[0m\u001b[0;34m\u001b[0m\u001b[0;34m\u001b[0m\u001b[0m\n\u001b[1;32m   2319\u001b[0m \u001b[0;34m\u001b[0m\u001b[0m\n",
      "\u001b[0;32m<decorator-gen-107>\u001b[0m in \u001b[0;36mconda\u001b[0;34m(self, line)\u001b[0m\n",
      "\u001b[0;32m/usr/local/lib/python3.7/site-packages/IPython/core/magic.py\u001b[0m in \u001b[0;36m<lambda>\u001b[0;34m(f, *a, **k)\u001b[0m\n\u001b[1;32m    185\u001b[0m     \u001b[0;31m# but it's overkill for just that one bit of state.\u001b[0m\u001b[0;34m\u001b[0m\u001b[0;34m\u001b[0m\u001b[0;34m\u001b[0m\u001b[0m\n\u001b[1;32m    186\u001b[0m     \u001b[0;32mdef\u001b[0m \u001b[0mmagic_deco\u001b[0m\u001b[0;34m(\u001b[0m\u001b[0marg\u001b[0m\u001b[0;34m)\u001b[0m\u001b[0;34m:\u001b[0m\u001b[0;34m\u001b[0m\u001b[0;34m\u001b[0m\u001b[0m\n\u001b[0;32m--> 187\u001b[0;31m         \u001b[0mcall\u001b[0m \u001b[0;34m=\u001b[0m \u001b[0;32mlambda\u001b[0m \u001b[0mf\u001b[0m\u001b[0;34m,\u001b[0m \u001b[0;34m*\u001b[0m\u001b[0ma\u001b[0m\u001b[0;34m,\u001b[0m \u001b[0;34m**\u001b[0m\u001b[0mk\u001b[0m\u001b[0;34m:\u001b[0m \u001b[0mf\u001b[0m\u001b[0;34m(\u001b[0m\u001b[0;34m*\u001b[0m\u001b[0ma\u001b[0m\u001b[0;34m,\u001b[0m \u001b[0;34m**\u001b[0m\u001b[0mk\u001b[0m\u001b[0;34m)\u001b[0m\u001b[0;34m\u001b[0m\u001b[0;34m\u001b[0m\u001b[0m\n\u001b[0m\u001b[1;32m    188\u001b[0m \u001b[0;34m\u001b[0m\u001b[0m\n\u001b[1;32m    189\u001b[0m         \u001b[0;32mif\u001b[0m \u001b[0mcallable\u001b[0m\u001b[0;34m(\u001b[0m\u001b[0marg\u001b[0m\u001b[0;34m)\u001b[0m\u001b[0;34m:\u001b[0m\u001b[0;34m\u001b[0m\u001b[0;34m\u001b[0m\u001b[0m\n",
      "\u001b[0;32m/usr/local/lib/python3.7/site-packages/IPython/core/magics/packaging.py\u001b[0m in \u001b[0;36mconda\u001b[0;34m(self, line)\u001b[0m\n\u001b[1;32m     77\u001b[0m         \"\"\"\n\u001b[1;32m     78\u001b[0m         \u001b[0;32mif\u001b[0m \u001b[0;32mnot\u001b[0m \u001b[0m_is_conda_environment\u001b[0m\u001b[0;34m(\u001b[0m\u001b[0;34m)\u001b[0m\u001b[0;34m:\u001b[0m\u001b[0;34m\u001b[0m\u001b[0;34m\u001b[0m\u001b[0m\n\u001b[0;32m---> 79\u001b[0;31m             raise ValueError(\"The python kernel does not appear to be a conda environment.  \"\n\u001b[0m\u001b[1;32m     80\u001b[0m                              \"Please use ``%pip install`` instead.\")\n\u001b[1;32m     81\u001b[0m \u001b[0;34m\u001b[0m\u001b[0m\n",
      "\u001b[0;31mValueError\u001b[0m: The python kernel does not appear to be a conda environment.  Please use ``%pip install`` instead."
     ]
    }
   ],
   "source": [
    "%%capture\n",
    "conda install matplotlib"
   ]
  },
  {
   "cell_type": "code",
   "execution_count": null,
   "metadata": {},
   "outputs": [],
   "source": [
    "%%capture\n",
    "conda install numpy"
   ]
  },
  {
   "cell_type": "code",
   "execution_count": null,
   "metadata": {},
   "outputs": [],
   "source": [
    "import os\n",
    "import sys\n",
    "sys.executable"
   ]
  },
  {
   "cell_type": "code",
   "execution_count": 18,
   "metadata": {},
   "outputs": [
    {
     "data": {
      "text/plain": [
       "['/Users/rihan/Documents/Work/covid/covidinnovations/data',\n",
       " '/usr/local/Cellar/python/3.7.4/Frameworks/Python.framework/Versions/3.7/lib/python37.zip',\n",
       " '/usr/local/Cellar/python/3.7.4/Frameworks/Python.framework/Versions/3.7/lib/python3.7',\n",
       " '/usr/local/Cellar/python/3.7.4/Frameworks/Python.framework/Versions/3.7/lib/python3.7/lib-dynload',\n",
       " '',\n",
       " '/usr/local/lib/python3.7/site-packages',\n",
       " '/usr/local/lib/python3.7/site-packages/IPython/extensions',\n",
       " '/Users/rihan/.ipython']"
      ]
     },
     "execution_count": 18,
     "metadata": {},
     "output_type": "execute_result"
    }
   ],
   "source": [
    "#where python locates imported packages:\n",
    "sys.path"
   ]
  },
  {
   "cell_type": "code",
   "execution_count": 19,
   "metadata": {},
   "outputs": [
    {
     "data": {
      "text/plain": [
       "['/usr/local/lib/python3.7/site-packages/numpy']"
      ]
     },
     "execution_count": 19,
     "metadata": {},
     "output_type": "execute_result"
    }
   ],
   "source": [
    "#where python found imported package\n",
    "import numpy\n",
    "numpy.__path__"
   ]
  },
  {
   "cell_type": "code",
   "execution_count": 5,
   "metadata": {
    "scrolled": true
   },
   "outputs": [
    {
     "name": "stdout",
     "output_type": "stream",
     "text": [
      "\u001b[33mDEPRECATION: Python 2.7 will reach the end of its life on January 1st, 2020. Please upgrade your Python as Python 2.7 won't be maintained after that date. A future version of pip will drop support for Python 2.7. More details about Python 2 support in pip, can be found at https://pip.pypa.io/en/latest/development/release-process/#python-2-support\u001b[0m\n",
      "Collecting airtable-python-wrapper\n",
      "  Using cached https://files.pythonhosted.org/packages/86/73/241b23b8ae7053b27d709c5ed69ed7d201fbd52c963fbf41e0e90b8f9792/airtable_python_wrapper-0.13.0-py2.py3-none-any.whl\n",
      "Collecting requests>=2 (from airtable-python-wrapper)\n",
      "  Using cached https://files.pythonhosted.org/packages/1a/70/1935c770cb3be6e3a8b78ced23d7e0f3b187f5cbfab4749523ed65d7c9b1/requests-2.23.0-py2.py3-none-any.whl\n",
      "Requirement already satisfied: six>=1.10 in /Library/Python/2.7/site-packages (from airtable-python-wrapper) (1.14.0)\n",
      "Requirement already satisfied: urllib3!=1.25.0,!=1.25.1,<1.26,>=1.21.1 in /Library/Python/2.7/site-packages (from requests>=2->airtable-python-wrapper) (1.25.3)\n",
      "Collecting chardet<4,>=3.0.2 (from requests>=2->airtable-python-wrapper)\n",
      "  Using cached https://files.pythonhosted.org/packages/bc/a9/01ffebfb562e4274b6487b4bb1ddec7ca55ec7510b22e4c51f14098443b8/chardet-3.0.4-py2.py3-none-any.whl\n",
      "Collecting certifi>=2017.4.17 (from requests>=2->airtable-python-wrapper)\n",
      "  Using cached https://files.pythonhosted.org/packages/57/2b/26e37a4b034800c960a00c4e1b3d9ca5d7014e983e6e729e33ea2f36426c/certifi-2020.4.5.1-py2.py3-none-any.whl\n",
      "Collecting idna<3,>=2.5 (from requests>=2->airtable-python-wrapper)\n",
      "  Using cached https://files.pythonhosted.org/packages/89/e3/afebe61c546d18fb1709a61bee788254b40e736cff7271c7de5de2dc4128/idna-2.9-py2.py3-none-any.whl\n",
      "Installing collected packages: chardet, certifi, idna, requests, airtable-python-wrapper\n",
      "\u001b[31mERROR: Could not install packages due to an EnvironmentError: [Errno 13] Permission denied: '/Library/Python/2.7/site-packages/chardet-3.0.4.dist-info'\n",
      "Consider using the `--user` option or check the permissions.\n",
      "\u001b[0m\n"
     ]
    }
   ],
   "source": [
    "# Airtable python wrapper api: https://github.com/gtalarico/airtable-python-wrapper\n",
    "# Documentation: https://airtable-python-wrapper.readthedocs.io/en/master/api.html#class-api\n",
    "\n",
    "# On best practices for installing packages into jupyter notebook?... : https://jakevdp.github.io/blog/2017/12/05/installing-python-packages-from-jupyter/\n",
    "# for installing pip packages:\n",
    "#! /home/[user]/miniconda3/bin/python -m pip install airtable-python-wrapper\n",
    "\n",
    "# or just use the basic:\n",
    "! python -m pip install airtable-python-wrapper\n"
   ]
  },
  {
   "cell_type": "markdown",
   "metadata": {},
   "source": [
    "\n",
    "\n",
    "# Step 2: Airtable Auto Import\n",
    "\n"
   ]
  },
  {
   "cell_type": "code",
   "execution_count": 3,
   "metadata": {},
   "outputs": [
    {
     "name": "stdout",
     "output_type": "stream",
     "text": [
      "<Airtable table:Tenders (Published)>\n",
      "<Airtable table:Categories>\n"
     ]
    }
   ],
   "source": [
    "from airtable import Airtable\n",
    "\n",
    "#airtable.__path__\n",
    "\n",
    "#Generate key from: https://airtable.com/account\n",
    "#Our base key: appl4hiR4DMyx28Bg\n",
    "\n",
    "base_key = 'appl4hiR4DMyx28Bg'\n",
    "table_name = 'Tenders (Published)'\n",
    "api_key = 'keyZ09GT0FWjXWkX4'\n",
    "tenders_published = Airtable(base_key, table_name, api_key)\n",
    "\n",
    "categories = Airtable(base_key, \"Categories\", api_key)\n",
    "\n",
    "print(tenders_published)\n",
    "print(categories)"
   ]
  },
  {
   "cell_type": "code",
   "execution_count": 6,
   "metadata": {
    "scrolled": false
   },
   "outputs": [],
   "source": [
    "# Get All data with Max Records\n",
    "tenders_records = tenders_published.get_all(maxRecords=20)\n",
    "\n",
    "categories_records = categories.get_all(maxRecords=20)\n",
    "\n",
    "#tenders_records\n",
    "#categories_records"
   ]
  },
  {
   "cell_type": "markdown",
   "metadata": {},
   "source": [
    "# Step: 3 Converting category id's into names"
   ]
  },
  {
   "cell_type": "code",
   "execution_count": 357,
   "metadata": {},
   "outputs": [
    {
     "data": {
      "text/plain": [
       "['rec0XJtb00Csoh3CT',\n",
       " 'rec10jFunep6i7LND',\n",
       " 'rec8w3NFLTMjwh4Vr',\n",
       " 'rec9GaNTHXsfeq8UH',\n",
       " 'recEwfTiy7301HPv3',\n",
       " 'recI5ZRtTNRaZm80W',\n",
       " 'recIq8hBU4RbxR42y',\n",
       " 'recMZ54t74nfcctvr',\n",
       " 'recONh9EvkVDp2zKQ',\n",
       " 'recQCO0OJC04Cg0aZ',\n",
       " 'recWQc2ta6gw3MFoO',\n",
       " 'recc8FTZUD8j9obGa',\n",
       " 'recj4TMhOU9ieeweU',\n",
       " 'recuZ68TmTG5jWEvg',\n",
       " 'recx3OdNvu7vqHLrL']"
      ]
     },
     "execution_count": 357,
     "metadata": {},
     "output_type": "execute_result"
    }
   ],
   "source": [
    "id_list = []\n",
    "for record in categories_records:\n",
    "    id_list.append((record['id']))\n",
    "    #print(record['fields'])\n",
    "    \n",
    "id_list"
   ]
  },
  {
   "cell_type": "code",
   "execution_count": 356,
   "metadata": {},
   "outputs": [
    {
     "data": {
      "text/html": [
       "<div>\n",
       "<style scoped>\n",
       "    .dataframe tbody tr th:only-of-type {\n",
       "        vertical-align: middle;\n",
       "    }\n",
       "\n",
       "    .dataframe tbody tr th {\n",
       "        vertical-align: top;\n",
       "    }\n",
       "\n",
       "    .dataframe thead th {\n",
       "        text-align: right;\n",
       "    }\n",
       "</style>\n",
       "<table border=\"1\" class=\"dataframe\">\n",
       "  <thead>\n",
       "    <tr style=\"text-align: right;\">\n",
       "      <th></th>\n",
       "      <th>ID</th>\n",
       "      <th>Name</th>\n",
       "    </tr>\n",
       "  </thead>\n",
       "  <tbody>\n",
       "    <tr>\n",
       "      <td>0</td>\n",
       "      <td>rec0XJtb00Csoh3CT</td>\n",
       "      <td>Diagnosis, Screening &amp; Detection of Virus</td>\n",
       "    </tr>\n",
       "    <tr>\n",
       "      <td>1</td>\n",
       "      <td>rec10jFunep6i7LND</td>\n",
       "      <td>Commodity Medical Supply (Masks, Ventilators, Gloves, Sanitizer, Protective Equipement)</td>\n",
       "    </tr>\n",
       "    <tr>\n",
       "      <td>2</td>\n",
       "      <td>rec8w3NFLTMjwh4Vr</td>\n",
       "      <td>Prevention and Education</td>\n",
       "    </tr>\n",
       "    <tr>\n",
       "      <td>3</td>\n",
       "      <td>rec9GaNTHXsfeq8UH</td>\n",
       "      <td>Medication: Antiviral, Therapeutics, Vaccine (and research thereof)</td>\n",
       "    </tr>\n",
       "    <tr>\n",
       "      <td>4</td>\n",
       "      <td>recEwfTiy7301HPv3</td>\n",
       "      <td>Other (Specify in Comments)</td>\n",
       "    </tr>\n",
       "    <tr>\n",
       "      <td>5</td>\n",
       "      <td>recI5ZRtTNRaZm80W</td>\n",
       "      <td>Monitoring, Alerts &amp; Communication</td>\n",
       "    </tr>\n",
       "    <tr>\n",
       "      <td>6</td>\n",
       "      <td>recIq8hBU4RbxR42y</td>\n",
       "      <td>Algorithms, Artificial Intelligence &amp; Prediction</td>\n",
       "    </tr>\n",
       "    <tr>\n",
       "      <td>7</td>\n",
       "      <td>recMZ54t74nfcctvr</td>\n",
       "      <td>Decontamination</td>\n",
       "    </tr>\n",
       "    <tr>\n",
       "      <td>8</td>\n",
       "      <td>recONh9EvkVDp2zKQ</td>\n",
       "      <td>Remote Work</td>\n",
       "    </tr>\n",
       "    <tr>\n",
       "      <td>9</td>\n",
       "      <td>recQCO0OJC04Cg0aZ</td>\n",
       "      <td>Crisis Management Tools (Logistics, Human Resources, ..)</td>\n",
       "    </tr>\n",
       "    <tr>\n",
       "      <td>10</td>\n",
       "      <td>recWQc2ta6gw3MFoO</td>\n",
       "      <td>Medical Care Support</td>\n",
       "    </tr>\n",
       "    <tr>\n",
       "      <td>11</td>\n",
       "      <td>recc8FTZUD8j9obGa</td>\n",
       "      <td>Quarantine and Confined Life</td>\n",
       "    </tr>\n",
       "    <tr>\n",
       "      <td>12</td>\n",
       "      <td>recj4TMhOU9ieeweU</td>\n",
       "      <td>Prevention and Education</td>\n",
       "    </tr>\n",
       "    <tr>\n",
       "      <td>13</td>\n",
       "      <td>recuZ68TmTG5jWEvg</td>\n",
       "      <td>Field hospital (Temporary Hospitals) solutions</td>\n",
       "    </tr>\n",
       "    <tr>\n",
       "      <td>14</td>\n",
       "      <td>recx3OdNvu7vqHLrL</td>\n",
       "      <td>Remote healthcare</td>\n",
       "    </tr>\n",
       "  </tbody>\n",
       "</table>\n",
       "</div>"
      ],
      "text/plain": [
       "                   ID  \\\n",
       "0   rec0XJtb00Csoh3CT   \n",
       "1   rec10jFunep6i7LND   \n",
       "2   rec8w3NFLTMjwh4Vr   \n",
       "3   rec9GaNTHXsfeq8UH   \n",
       "4   recEwfTiy7301HPv3   \n",
       "5   recI5ZRtTNRaZm80W   \n",
       "6   recIq8hBU4RbxR42y   \n",
       "7   recMZ54t74nfcctvr   \n",
       "8   recONh9EvkVDp2zKQ   \n",
       "9   recQCO0OJC04Cg0aZ   \n",
       "10  recWQc2ta6gw3MFoO   \n",
       "11  recc8FTZUD8j9obGa   \n",
       "12  recj4TMhOU9ieeweU   \n",
       "13  recuZ68TmTG5jWEvg   \n",
       "14  recx3OdNvu7vqHLrL   \n",
       "\n",
       "                                                                                       Name  \n",
       "0   Diagnosis, Screening & Detection of Virus                                                \n",
       "1   Commodity Medical Supply (Masks, Ventilators, Gloves, Sanitizer, Protective Equipement)  \n",
       "2   Prevention and Education                                                                 \n",
       "3   Medication: Antiviral, Therapeutics, Vaccine (and research thereof)                      \n",
       "4   Other (Specify in Comments)                                                              \n",
       "5   Monitoring, Alerts & Communication                                                       \n",
       "6   Algorithms, Artificial Intelligence & Prediction                                         \n",
       "7   Decontamination                                                                          \n",
       "8   Remote Work                                                                              \n",
       "9   Crisis Management Tools (Logistics, Human Resources, ..)                                 \n",
       "10  Medical Care Support                                                                     \n",
       "11  Quarantine and Confined Life                                                             \n",
       "12  Prevention and Education                                                                 \n",
       "13  Field hospital (Temporary Hospitals) solutions                                           \n",
       "14  Remote healthcare                                                                        "
      ]
     },
     "execution_count": 356,
     "metadata": {},
     "output_type": "execute_result"
    }
   ],
   "source": [
    "#List names of each category ID\n",
    "import pandas as pd\n",
    "df_tenders = pd.DataFrame.from_records((r['fields'] for r in tenders_records))\n",
    "df_categories = pd.DataFrame.from_records((r['fields'] for r in categories_records))\n",
    "df_categories['ID'] = id_list\n",
    "\n",
    "df_categories_names = df_categories[['ID','Name']].copy()\n",
    "df_tendername = df_tenders[['Name','Categories']].copy()\n",
    "\n",
    "\n",
    "#df_tenders.head()\n",
    "#df_tendername.head()\n",
    "df_categories_names\n",
    "\n"
   ]
  },
  {
   "cell_type": "code",
   "execution_count": 360,
   "metadata": {},
   "outputs": [
    {
     "data": {
      "text/html": [
       "<div>\n",
       "<style scoped>\n",
       "    .dataframe tbody tr th:only-of-type {\n",
       "        vertical-align: middle;\n",
       "    }\n",
       "\n",
       "    .dataframe tbody tr th {\n",
       "        vertical-align: top;\n",
       "    }\n",
       "\n",
       "    .dataframe thead th {\n",
       "        text-align: right;\n",
       "    }\n",
       "</style>\n",
       "<table border=\"1\" class=\"dataframe\">\n",
       "  <thead>\n",
       "    <tr style=\"text-align: right;\">\n",
       "      <th></th>\n",
       "      <th>Name</th>\n",
       "      <th>Category</th>\n",
       "    </tr>\n",
       "  </thead>\n",
       "  <tbody>\n",
       "    <tr>\n",
       "      <td>0</td>\n",
       "      <td>AMable Call for Solution Ideas to COVID-19 challenges</td>\n",
       "      <td>Commodity Medical Supply (Masks, Ventilators, Gloves, Sanitizer, Protective Equipement), Medical Care Support</td>\n",
       "    </tr>\n",
       "    <tr>\n",
       "      <td>1</td>\n",
       "      <td>Botswana Innovation Fund Call for Applications</td>\n",
       "      <td>Algorithms, Artificial Intelligence &amp; Prediction, Crisis Management Tools (Logistics, Human Resources, ..) , Commodity Medical Supply (Masks, Ventilators, Gloves, Sanitizer, Protective Equipement), Prevention and Education , Diagnosis, Screening &amp; Detection of Virus, Monitoring, Alerts &amp; Communication , Medical Care Support</td>\n",
       "    </tr>\n",
       "    <tr>\n",
       "      <td>2</td>\n",
       "      <td>COVID-19 Extraordinary Call for Proposals 2020</td>\n",
       "      <td>Remote healthcare, Algorithms, Artificial Intelligence &amp; Prediction, Prevention and Education , Remote Work, Medical Care Support, Monitoring, Alerts &amp; Communication , Crisis Management Tools (Logistics, Human Resources, ..)</td>\n",
       "    </tr>\n",
       "    <tr>\n",
       "      <td>3</td>\n",
       "      <td>COVID-19 I-CO Fund Call for Proposals</td>\n",
       "      <td>Diagnosis, Screening &amp; Detection of Virus, Commodity Medical Supply (Masks, Ventilators, Gloves, Sanitizer, Protective Equipement), Medical Care Support, Remote healthcare</td>\n",
       "    </tr>\n",
       "    <tr>\n",
       "      <td>4</td>\n",
       "      <td>COVID-19 Response Team</td>\n",
       "      <td>Algorithms, Artificial Intelligence &amp; Prediction, Diagnosis, Screening &amp; Detection of Virus, Prevention and Education , Crisis Management Tools (Logistics, Human Resources, ..) , Monitoring, Alerts &amp; Communication , Commodity Medical Supply (Masks, Ventilators, Gloves, Sanitizer, Protective Equipement), Medical Care Support, Remote healthcare, Medication: Antiviral, Therapeutics, Vaccine (and research thereof), Remote Work, Decontamination, Quarantine and Confined Life</td>\n",
       "    </tr>\n",
       "    <tr>\n",
       "      <td>5</td>\n",
       "      <td>COVID-19 Solutions in Digital Health</td>\n",
       "      <td>Algorithms, Artificial Intelligence &amp; Prediction, Medical Care Support, Diagnosis, Screening &amp; Detection of Virus, Medication: Antiviral, Therapeutics, Vaccine (and research thereof), Crisis Management Tools (Logistics, Human Resources, ..)</td>\n",
       "    </tr>\n",
       "    <tr>\n",
       "      <td>6</td>\n",
       "      <td>Call for Proposals for Projects in the Development, Piloting and Demonstration stages to cope with the Coronavirus</td>\n",
       "      <td>Diagnosis, Screening &amp; Detection of Virus, Prevention and Education , Remote healthcare, Medication: Antiviral, Therapeutics, Vaccine (and research thereof), Medical Care Support, Monitoring, Alerts &amp; Communication , Crisis Management Tools (Logistics, Human Resources, ..) , Quarantine and Confined Life</td>\n",
       "    </tr>\n",
       "    <tr>\n",
       "      <td>7</td>\n",
       "      <td>Call for innovations who can offer a response to the COVID-19 pandemic</td>\n",
       "      <td>Medical Care Support, Algorithms, Artificial Intelligence &amp; Prediction, Diagnosis, Screening &amp; Detection of Virus, Medication: Antiviral, Therapeutics, Vaccine (and research thereof), Other (Specify in Comments)</td>\n",
       "    </tr>\n",
       "    <tr>\n",
       "      <td>8</td>\n",
       "      <td>Call for rapid response to COVID-19 in Panama</td>\n",
       "      <td>Diagnosis, Screening &amp; Detection of Virus, Medication: Antiviral, Therapeutics, Vaccine (and research thereof), Algorithms, Artificial Intelligence &amp; Prediction, Other (Specify in Comments)</td>\n",
       "    </tr>\n",
       "    <tr>\n",
       "      <td>9</td>\n",
       "      <td>Call for the Innovation Program in Jalisco 2020 - Challenge Jalisco COVID-19</td>\n",
       "      <td>Algorithms, Artificial Intelligence &amp; Prediction, Diagnosis, Screening &amp; Detection of Virus, Prevention and Education , Monitoring, Alerts &amp; Communication , Commodity Medical Supply (Masks, Ventilators, Gloves, Sanitizer, Protective Equipement), Medical Care Support, Decontamination</td>\n",
       "    </tr>\n",
       "    <tr>\n",
       "      <td>10</td>\n",
       "      <td>CcHUB: Funding and Design Support for COVID-19 Projects</td>\n",
       "      <td>Monitoring, Alerts &amp; Communication , Medical Care Support, Prevention and Education , Commodity Medical Supply (Masks, Ventilators, Gloves, Sanitizer, Protective Equipement), Crisis Management Tools (Logistics, Human Resources, ..)</td>\n",
       "    </tr>\n",
       "    <tr>\n",
       "      <td>11</td>\n",
       "      <td>Challenge Covid-19</td>\n",
       "      <td>Crisis Management Tools (Logistics, Human Resources, ..) , Commodity Medical Supply (Masks, Ventilators, Gloves, Sanitizer, Protective Equipement), Prevention and Education</td>\n",
       "    </tr>\n",
       "    <tr>\n",
       "      <td>12</td>\n",
       "      <td>Code Life Ventilator Challenge</td>\n",
       "      <td>Medical Care Support</td>\n",
       "    </tr>\n",
       "    <tr>\n",
       "      <td>13</td>\n",
       "      <td>Coronavirus (Covid-19) Therapeutics: £10 Million Call For Rapid Deployment</td>\n",
       "      <td>Medication: Antiviral, Therapeutics, Vaccine (and research thereof)</td>\n",
       "    </tr>\n",
       "    <tr>\n",
       "      <td>14</td>\n",
       "      <td>Covid-19 Resilience Innovation Project Support</td>\n",
       "      <td>Medical Care Support, Commodity Medical Supply (Masks, Ventilators, Gloves, Sanitizer, Protective Equipement), Decontamination, Commodity Medical Supply (Masks, Ventilators, Gloves, Sanitizer, Protective Equipement), Decontamination, Medical Care Support</td>\n",
       "    </tr>\n",
       "    <tr>\n",
       "      <td>15</td>\n",
       "      <td>Covid-19 fast track</td>\n",
       "      <td>Medical Care Support, Diagnosis, Screening &amp; Detection of Virus, Commodity Medical Supply (Masks, Ventilators, Gloves, Sanitizer, Protective Equipement), Algorithms, Artificial Intelligence &amp; Prediction, Crisis Management Tools (Logistics, Human Resources, ..) , Monitoring, Alerts &amp; Communication , Medication: Antiviral, Therapeutics, Vaccine (and research thereof), Prevention and Education , Decontamination, Remote healthcare, Quarantine and Confined Life, Remote Work</td>\n",
       "    </tr>\n",
       "    <tr>\n",
       "      <td>16</td>\n",
       "      <td>Invitation of technology proposals for fighting COVID 19</td>\n",
       "      <td>Commodity Medical Supply (Masks, Ventilators, Gloves, Sanitizer, Protective Equipement), Diagnosis, Screening &amp; Detection of Virus, Algorithms, Artificial Intelligence &amp; Prediction, Decontamination, Monitoring, Alerts &amp; Communication</td>\n",
       "    </tr>\n",
       "    <tr>\n",
       "      <td>17</td>\n",
       "      <td>Mining companies unite to face the challenges of Covid-19 together</td>\n",
       "      <td>Algorithms, Artificial Intelligence &amp; Prediction, Diagnosis, Screening &amp; Detection of Virus, Remote healthcare, Decontamination, Monitoring, Alerts &amp; Communication , Field hospital (Temporary Hospitals) solutions, Prevention and Education , Quarantine and Confined Life, Medical Care Support</td>\n",
       "    </tr>\n",
       "    <tr>\n",
       "      <td>18</td>\n",
       "      <td>Santa Catarina's Business Fund for Articulated Reaction Against Coronavirus</td>\n",
       "      <td>Commodity Medical Supply (Masks, Ventilators, Gloves, Sanitizer, Protective Equipement), Diagnosis, Screening &amp; Detection of Virus, Decontamination, Crisis Management Tools (Logistics, Human Resources, ..) , Remote Work, Prevention and Education , Medical Care Support</td>\n",
       "    </tr>\n",
       "  </tbody>\n",
       "</table>\n",
       "</div>"
      ],
      "text/plain": [
       "                                                                                                                  Name  \\\n",
       "0   AMable Call for Solution Ideas to COVID-19 challenges                                                                \n",
       "1   Botswana Innovation Fund Call for Applications                                                                       \n",
       "2   COVID-19 Extraordinary Call for Proposals 2020                                                                       \n",
       "3   COVID-19 I-CO Fund Call for Proposals                                                                                \n",
       "4   COVID-19 Response Team                                                                                               \n",
       "5   COVID-19 Solutions in Digital Health                                                                                 \n",
       "6   Call for Proposals for Projects in the Development, Piloting and Demonstration stages to cope with the Coronavirus   \n",
       "7   Call for innovations who can offer a response to the COVID-19 pandemic                                               \n",
       "8   Call for rapid response to COVID-19 in Panama                                                                        \n",
       "9   Call for the Innovation Program in Jalisco 2020 - Challenge Jalisco COVID-19                                         \n",
       "10  CcHUB: Funding and Design Support for COVID-19 Projects                                                              \n",
       "11  Challenge Covid-19                                                                                                   \n",
       "12  Code Life Ventilator Challenge                                                                                       \n",
       "13  Coronavirus (Covid-19) Therapeutics: £10 Million Call For Rapid Deployment                                           \n",
       "14  Covid-19 Resilience Innovation Project Support                                                                       \n",
       "15  Covid-19 fast track                                                                                                  \n",
       "16  Invitation of technology proposals for fighting COVID 19                                                             \n",
       "17  Mining companies unite to face the challenges of Covid-19 together                                                   \n",
       "18  Santa Catarina's Business Fund for Articulated Reaction Against Coronavirus                                          \n",
       "\n",
       "                                                                                                                                                                                                                                                                                                                                                                                                                                                                                     Category  \n",
       "0   Commodity Medical Supply (Masks, Ventilators, Gloves, Sanitizer, Protective Equipement), Medical Care Support                                                                                                                                                                                                                                                                                                                                                                              \n",
       "1   Algorithms, Artificial Intelligence & Prediction, Crisis Management Tools (Logistics, Human Resources, ..) , Commodity Medical Supply (Masks, Ventilators, Gloves, Sanitizer, Protective Equipement), Prevention and Education , Diagnosis, Screening & Detection of Virus, Monitoring, Alerts & Communication , Medical Care Support                                                                                                                                                      \n",
       "2   Remote healthcare, Algorithms, Artificial Intelligence & Prediction, Prevention and Education , Remote Work, Medical Care Support, Monitoring, Alerts & Communication , Crisis Management Tools (Logistics, Human Resources, ..)                                                                                                                                                                                                                                                           \n",
       "3   Diagnosis, Screening & Detection of Virus, Commodity Medical Supply (Masks, Ventilators, Gloves, Sanitizer, Protective Equipement), Medical Care Support, Remote healthcare                                                                                                                                                                                                                                                                                                                \n",
       "4   Algorithms, Artificial Intelligence & Prediction, Diagnosis, Screening & Detection of Virus, Prevention and Education , Crisis Management Tools (Logistics, Human Resources, ..) , Monitoring, Alerts & Communication , Commodity Medical Supply (Masks, Ventilators, Gloves, Sanitizer, Protective Equipement), Medical Care Support, Remote healthcare, Medication: Antiviral, Therapeutics, Vaccine (and research thereof), Remote Work, Decontamination, Quarantine and Confined Life  \n",
       "5   Algorithms, Artificial Intelligence & Prediction, Medical Care Support, Diagnosis, Screening & Detection of Virus, Medication: Antiviral, Therapeutics, Vaccine (and research thereof), Crisis Management Tools (Logistics, Human Resources, ..)                                                                                                                                                                                                                                           \n",
       "6   Diagnosis, Screening & Detection of Virus, Prevention and Education , Remote healthcare, Medication: Antiviral, Therapeutics, Vaccine (and research thereof), Medical Care Support, Monitoring, Alerts & Communication , Crisis Management Tools (Logistics, Human Resources, ..) , Quarantine and Confined Life                                                                                                                                                                           \n",
       "7   Medical Care Support, Algorithms, Artificial Intelligence & Prediction, Diagnosis, Screening & Detection of Virus, Medication: Antiviral, Therapeutics, Vaccine (and research thereof), Other (Specify in Comments)                                                                                                                                                                                                                                                                        \n",
       "8   Diagnosis, Screening & Detection of Virus, Medication: Antiviral, Therapeutics, Vaccine (and research thereof), Algorithms, Artificial Intelligence & Prediction, Other (Specify in Comments)                                                                                                                                                                                                                                                                                              \n",
       "9   Algorithms, Artificial Intelligence & Prediction, Diagnosis, Screening & Detection of Virus, Prevention and Education , Monitoring, Alerts & Communication , Commodity Medical Supply (Masks, Ventilators, Gloves, Sanitizer, Protective Equipement), Medical Care Support, Decontamination                                                                                                                                                                                                \n",
       "10  Monitoring, Alerts & Communication , Medical Care Support, Prevention and Education , Commodity Medical Supply (Masks, Ventilators, Gloves, Sanitizer, Protective Equipement), Crisis Management Tools (Logistics, Human Resources, ..)                                                                                                                                                                                                                                                    \n",
       "11  Crisis Management Tools (Logistics, Human Resources, ..) , Commodity Medical Supply (Masks, Ventilators, Gloves, Sanitizer, Protective Equipement), Prevention and Education                                                                                                                                                                                                                                                                                                               \n",
       "12  Medical Care Support                                                                                                                                                                                                                                                                                                                                                                                                                                                                       \n",
       "13  Medication: Antiviral, Therapeutics, Vaccine (and research thereof)                                                                                                                                                                                                                                                                                                                                                                                                                        \n",
       "14  Medical Care Support, Commodity Medical Supply (Masks, Ventilators, Gloves, Sanitizer, Protective Equipement), Decontamination, Commodity Medical Supply (Masks, Ventilators, Gloves, Sanitizer, Protective Equipement), Decontamination, Medical Care Support                                                                                                                                                                                                                             \n",
       "15  Medical Care Support, Diagnosis, Screening & Detection of Virus, Commodity Medical Supply (Masks, Ventilators, Gloves, Sanitizer, Protective Equipement), Algorithms, Artificial Intelligence & Prediction, Crisis Management Tools (Logistics, Human Resources, ..) , Monitoring, Alerts & Communication , Medication: Antiviral, Therapeutics, Vaccine (and research thereof), Prevention and Education , Decontamination, Remote healthcare, Quarantine and Confined Life, Remote Work  \n",
       "16  Commodity Medical Supply (Masks, Ventilators, Gloves, Sanitizer, Protective Equipement), Diagnosis, Screening & Detection of Virus, Algorithms, Artificial Intelligence & Prediction, Decontamination, Monitoring, Alerts & Communication                                                                                                                                                                                                                                                  \n",
       "17  Algorithms, Artificial Intelligence & Prediction, Diagnosis, Screening & Detection of Virus, Remote healthcare, Decontamination, Monitoring, Alerts & Communication , Field hospital (Temporary Hospitals) solutions, Prevention and Education , Quarantine and Confined Life, Medical Care Support                                                                                                                                                                                        \n",
       "18  Commodity Medical Supply (Masks, Ventilators, Gloves, Sanitizer, Protective Equipement), Diagnosis, Screening & Detection of Virus, Decontamination, Crisis Management Tools (Logistics, Human Resources, ..) , Remote Work, Prevention and Education , Medical Care Support                                                                                                                                                                                                               "
      ]
     },
     "execution_count": 360,
     "metadata": {},
     "output_type": "execute_result"
    }
   ],
   "source": [
    "#List category of all tenders\n",
    "df_tenders = pd.DataFrame.from_records((r['fields'] for r in tenders_records))\n",
    "df_tendername = df_tenders[['Name','Categories']].copy()\n",
    "df_categories = pd.DataFrame.from_records((r['fields'] for r in categories_records))\n",
    "\n",
    "df_categories['ID'] = id_list\n",
    "df_categories_names = df_categories[['ID','Name']].copy()\n",
    "\n",
    "new_x = df_tendername.apply(lambda x: pd.Series(x['Categories']),axis=1).stack().reset_index(level=1, drop=True)\n",
    "new_x.name = 'Category'\n",
    "new_df = df_tendername.drop(['Categories'],axis=1).join(new_x)\n",
    "\n",
    "#Function to convert category id's to names\n",
    "def id_converter(row):\n",
    "    row['Category'] = df_categories_names.loc[df_categories['ID'] == row['Category'], 'Name'].values[0]\n",
    "    return row\n",
    "    \n",
    "\n",
    "new_df.apply (lambda row: id_converter(row), axis=1)\n",
    "\n",
    "#Sorting Table frormat to \n",
    "df_categorynames = new_df.groupby('Name').agg({'Category': ', '.join}).reset_index()\n",
    "pd.set_option('display.max_rows', None)\n",
    "pd.set_option('display.max_columns', None)\n",
    "pd.set_option('display.width', None)\n",
    "pd.set_option('display.max_colwidth', -1)\n",
    "\n",
    "\n",
    "df_categorynames"
   ]
  },
  {
   "cell_type": "markdown",
   "metadata": {},
   "source": [
    "\n",
    "\n",
    "\n",
    "# Original Data Analytics by Chloe Ji\n",
    "\n",
    "\n",
    "\n"
   ]
  },
  {
   "cell_type": "code",
   "execution_count": 43,
   "metadata": {},
   "outputs": [],
   "source": [
    "#find current path \n",
    "current_path = os.path.abspath('')\n",
    "\n",
    "#Make a charts directory inside of it\n",
    "#then populate with data files"
   ]
  },
  {
   "cell_type": "code",
   "execution_count": 46,
   "metadata": {},
   "outputs": [],
   "source": [
    "import pandas as pd\n",
    "import re \n",
    "import matplotlib.pyplot as plt\n",
    "from matplotlib.ticker import MaxNLocator \n",
    "import os \n",
    "import numpy as np\n",
    "import math \n",
    " \n",
    "\n",
    "def read_file(filename):\n",
    "    df= list()\n",
    "    for file in filename:\n",
    "        if file !='.ipynb_checkpoints': \n",
    "            print(file)\n",
    "            df.append(pd.read_csv(os.path.join('charts/',file)))\n",
    "    return df \n",
    "  \n",
    "\n",
    "def trans_cats_tenders(tender_file):\n",
    "    \n",
    "    marker = \",!$%^&,\"\n",
    "    data= tender['Categories'][0]\n",
    "    PATTERN= re.compile(r'''((?:[^\",']|\"[^\"]*\"|'[^']*')+)''')\n",
    "    tender_file['Categories']= tender_file['Categories'].apply(lambda row: [r.replace(marker[1:-1],'') for r in PATTERN.split(row.replace(',,', marker))[1::2]])\n",
    "    tender_file['rowsPos']=tender_file.index \n",
    "    tender_file['continent']= tender_file['Issuance country'].map(\n",
    "        {'Argentina':'South America','Australia':'Oceania',\n",
    "         'Bangladesh':'Asia','Brazil':'South America',\n",
    "         'Canada':'North America','Colombia':'South America',\n",
    "         'Denmark':'Europe','European Union ':'Europe','France':'Europe',\n",
    "         'India':'Asia','Ireland':'Europe','Israel':'Asia','Lebanon':'Asia',\n",
    "         'Nigeria':'Africa','Pakistan':'Asia','Panama':'North America','Portugal':'Europe',\n",
    "         'Spain':'Europe','Sweden':'Europe','United Kingdom':'Europe',\n",
    "         'United States':'North America','Worldwide':'Other'}) \n",
    "    \n",
    "    return tender_file \n",
    "\n",
    "def trans_solution_table(solution_file):\n",
    "    solution_file['Continent']= solution_file['Company Location'].map(\n",
    "        {'Canada':'North America','Singapore':'Asia',\n",
    "         'United States':'North America','Korea':'Asia',\n",
    "         'France':'Europe','Cyprus':'Europe','Switzerland':'Europe',\n",
    "         'Hong Kong SAR':'Asia','Taiwan':'Asia','Egypt':'Africa','India':'Asia'})\n",
    "    \n",
    "    return solution_file\n",
    "    \n",
    "def tender_cats_table(file):\n",
    "    tender_cats=file['Categories'].apply(pd.Series).reset_index().melt(id_vars='index').dropna()[['index', 'value']].set_index('index')\n",
    "    tender_cats['rowsPos']=tender_cats.index \n",
    "    \n",
    "    return tender_cats \n",
    "\n",
    "def all_cats(tender_file, cats_file):\n",
    "    df_tender=cats_file.merge(tender_file, on='rowsPos', how='left')\n",
    "    \n",
    "    return df_tender  "
   ]
  },
  {
   "cell_type": "code",
   "execution_count": 28,
   "metadata": {},
   "outputs": [
    {
     "ename": "NameError",
     "evalue": "name 'tender' is not defined",
     "output_type": "error",
     "traceback": [
      "\u001b[0;31m---------------------------------------------------------------------------\u001b[0m",
      "\u001b[0;31mNameError\u001b[0m                                 Traceback (most recent call last)",
      "\u001b[0;32m<ipython-input-28-fab1cd59655e>\u001b[0m in \u001b[0;36m<module>\u001b[0;34m\u001b[0m\n\u001b[0;32m----> 1\u001b[0;31m \u001b[0mprint\u001b[0m\u001b[0;34m(\u001b[0m\u001b[0mtender\u001b[0m\u001b[0;34m)\u001b[0m\u001b[0;34m\u001b[0m\u001b[0;34m\u001b[0m\u001b[0m\n\u001b[0m",
      "\u001b[0;31mNameError\u001b[0m: name 'tender' is not defined"
     ]
    }
   ],
   "source": [
    "print(tender)"
   ]
  },
  {
   "cell_type": "code",
   "execution_count": 47,
   "metadata": {},
   "outputs": [
    {
     "ename": "FileNotFoundError",
     "evalue": "[Errno 2] No such file or directory: 'charts/'",
     "output_type": "error",
     "traceback": [
      "\u001b[0;31m---------------------------------------------------------------------------\u001b[0m",
      "\u001b[0;31mFileNotFoundError\u001b[0m                         Traceback (most recent call last)",
      "\u001b[0;32m<ipython-input-47-ed96b10198d4>\u001b[0m in \u001b[0;36m<module>\u001b[0;34m\u001b[0m\n\u001b[0;32m----> 1\u001b[0;31m \u001b[0mfiledir\u001b[0m\u001b[0;34m=\u001b[0m \u001b[0mos\u001b[0m\u001b[0;34m.\u001b[0m\u001b[0mlistdir\u001b[0m\u001b[0;34m(\u001b[0m\u001b[0;34m'charts/'\u001b[0m\u001b[0;34m)\u001b[0m\u001b[0;34m\u001b[0m\u001b[0;34m\u001b[0m\u001b[0m\n\u001b[0m\u001b[1;32m      2\u001b[0m \u001b[0mcats\u001b[0m\u001b[0;34m,\u001b[0m \u001b[0msolution\u001b[0m\u001b[0;34m,\u001b[0m \u001b[0mtender\u001b[0m\u001b[0;34m=\u001b[0m \u001b[0mread_file\u001b[0m\u001b[0;34m(\u001b[0m\u001b[0mfiledir\u001b[0m\u001b[0;34m)\u001b[0m\u001b[0;34m\u001b[0m\u001b[0;34m\u001b[0m\u001b[0m\n\u001b[1;32m      3\u001b[0m \u001b[0mtender\u001b[0m\u001b[0;34m=\u001b[0m\u001b[0mtrans_cats_tenders\u001b[0m\u001b[0;34m(\u001b[0m\u001b[0mtender\u001b[0m\u001b[0;34m)\u001b[0m\u001b[0;34m\u001b[0m\u001b[0;34m\u001b[0m\u001b[0m\n\u001b[1;32m      4\u001b[0m \u001b[0mtender_cats\u001b[0m\u001b[0;34m=\u001b[0m\u001b[0mtender_cats_table\u001b[0m\u001b[0;34m(\u001b[0m\u001b[0mtender\u001b[0m\u001b[0;34m)\u001b[0m\u001b[0;34m\u001b[0m\u001b[0;34m\u001b[0m\u001b[0m\n\u001b[1;32m      5\u001b[0m \u001b[0mdf_tender\u001b[0m \u001b[0;34m=\u001b[0m \u001b[0mall_cats\u001b[0m\u001b[0;34m(\u001b[0m\u001b[0mtender\u001b[0m\u001b[0;34m,\u001b[0m \u001b[0mtender_cats\u001b[0m\u001b[0;34m)\u001b[0m\u001b[0;34m\u001b[0m\u001b[0;34m\u001b[0m\u001b[0m\n",
      "\u001b[0;31mFileNotFoundError\u001b[0m: [Errno 2] No such file or directory: 'charts/'"
     ]
    }
   ],
   "source": [
    "filedir= os.listdir('charts/')\n",
    "cats, solution, tender= read_file(filedir)\n",
    "tender=trans_cats_tenders(tender)  \n",
    "tender_cats=tender_cats_table(tender) \n",
    "df_tender = all_cats(tender, tender_cats) \n",
    "solution_table= trans_solution_table(solution)"
   ]
  },
  {
   "cell_type": "code",
   "execution_count": 45,
   "metadata": {},
   "outputs": [
    {
     "ename": "NameError",
     "evalue": "name 'tender' is not defined",
     "output_type": "error",
     "traceback": [
      "\u001b[0;31m---------------------------------------------------------------------------\u001b[0m",
      "\u001b[0;31mNameError\u001b[0m                                 Traceback (most recent call last)",
      "\u001b[0;32m<ipython-input-45-86a51f940b11>\u001b[0m in \u001b[0;36m<module>\u001b[0;34m\u001b[0m\n\u001b[0;32m----> 1\u001b[0;31m \u001b[0mtendersNum\u001b[0m\u001b[0;34m=\u001b[0m\u001b[0mtender\u001b[0m\u001b[0;34m.\u001b[0m\u001b[0mgroupby\u001b[0m\u001b[0;34m(\u001b[0m\u001b[0;34m'continent'\u001b[0m\u001b[0;34m,\u001b[0m \u001b[0mas_index\u001b[0m\u001b[0;34m=\u001b[0m \u001b[0;32mFalse\u001b[0m\u001b[0;34m)\u001b[0m\u001b[0;34m[\u001b[0m\u001b[0;34m'Organization'\u001b[0m\u001b[0;34m]\u001b[0m\u001b[0;34m.\u001b[0m\u001b[0mcount\u001b[0m\u001b[0;34m(\u001b[0m\u001b[0;34m)\u001b[0m\u001b[0;34m\u001b[0m\u001b[0;34m\u001b[0m\u001b[0m\n\u001b[0m\u001b[1;32m      2\u001b[0m \u001b[0mtendersNum_sort\u001b[0m\u001b[0;34m=\u001b[0m\u001b[0mtendersNum\u001b[0m\u001b[0;34m.\u001b[0m\u001b[0msort_values\u001b[0m\u001b[0;34m(\u001b[0m\u001b[0;34m'Organization'\u001b[0m\u001b[0;34m,\u001b[0m \u001b[0mascending\u001b[0m\u001b[0;34m=\u001b[0m \u001b[0;32mFalse\u001b[0m\u001b[0;34m)\u001b[0m\u001b[0;34m\u001b[0m\u001b[0;34m\u001b[0m\u001b[0m\n",
      "\u001b[0;31mNameError\u001b[0m: name 'tender' is not defined"
     ]
    }
   ],
   "source": [
    "tendersNum=tender.groupby('continent', as_index= False)['Organization'].count() \n",
    "tendersNum_sort=tendersNum.sort_values('Organization', ascending= False)"
   ]
  },
  {
   "cell_type": "code",
   "execution_count": null,
   "metadata": {},
   "outputs": [],
   "source": [
    "tendersNum_sort"
   ]
  },
  {
   "cell_type": "code",
   "execution_count": null,
   "metadata": {},
   "outputs": [],
   "source": [
    "def plot_basic(file, title, ylabel, xlabel):\n",
    "    \n",
    "    plt.style.use('ggplot') \n",
    "    fig, ax = plt.subplots(\n",
    "        nrows = 1,\n",
    "        figsize = (16,10),\n",
    "        dpi = 80, \n",
    "        facecolor = 'w', \n",
    "        edgecolor = 'k')\n",
    "    \n",
    "    tenderNum = file[file.columns[0]] \n",
    "    continent = file[file.columns[1]] \n",
    "    \n",
    "    ax.tick_params(axis='both', which='major', labelsize = 16)  \n",
    "    ax.yaxis.set_major_locator(MaxNLocator(integer = True))\n",
    "    ax.get_xaxis().get_major_formatter().set_useOffset(False)\n",
    "    ax.set_title(title, pad = 28,fontsize = 22, ha=\"center\") \n",
    "    plt.axis(aspect='equal')\n",
    "    ax.set_xticklabels(tenderNum)\n",
    "    plt.ylabel(ylabel,fontsize = 16) \n",
    "    plt.xlabel(xlabel,fontsize = 16)  \n",
    "    \n",
    "    for tick in ax.get_xticklabels():\n",
    "        tick.set_rotation(45)\n",
    "        \n",
    "    for i, v in enumerate(continent):\n",
    "        ax.text(i+0.1, v+ 0.3, \n",
    "                str(v), \n",
    "                color = 'slategray',\n",
    "                size = 12)\n",
    "    \n",
    "    plt.bar(tenderNum, continent, color='#28aae3', width=0.6, align='center')\n",
    "\n",
    "    \n",
    "plot_basic(tendersNum_sort, \n",
    "           'Refrenced Tenders on Covidtenders.org, per continent',\n",
    "           'Number of Tenders', \n",
    "           'Continent') "
   ]
  },
  {
   "cell_type": "code",
   "execution_count": null,
   "metadata": {},
   "outputs": [],
   "source": [
    "solution_cats = solution.groupby('Continent')['Solution Name'].count()\n",
    "solution_cats = pd.DataFrame(solution_cats)\n",
    "solution_cats = solution_cats.reset_index() \n",
    "solution_cats "
   ]
  },
  {
   "cell_type": "code",
   "execution_count": null,
   "metadata": {},
   "outputs": [],
   "source": [
    "def plot_solution(file, title):\n",
    "    \n",
    "    fig,ax = plt.subplots(\n",
    "        nrows = 1,\n",
    "        figsize = (16,10),\n",
    "        dpi = 80, \n",
    "        facecolor = 'w', \n",
    "        edgecolor = 'k')\n",
    "    \n",
    "    continent = file[file.columns[0]] \n",
    "    counts = file[file.columns[1]]  \n",
    "    explode = (0, 0.1, 0, 0)\n",
    "    colors = ['#08018d','#27abe3','#08018d','#544741']\n",
    "     \n",
    "    def abs_value(val):\n",
    "        a  = np.round(val/100.*counts.sum(), 0)\n",
    "        a ='{0:,.0f}'.format(a)\n",
    "        return a\n",
    "    \n",
    "    patches, texts, autotexts= ax.pie(counts, \n",
    "                                      explode = explode,\n",
    "                                      colors = colors,\n",
    "                                      labels = continent, \n",
    "                                      autopct = abs_value,\n",
    "                                      startangle = 90,\n",
    "                                      shadow = True)\n",
    "    centre_circle = plt.Circle((0,0),0.68, fc = 'white')  \n",
    "    fig.gca().add_artist(centre_circle)\n",
    "    \n",
    "    plt.title(title, fontsize = 20, ha = \"center\")\n",
    "    for text in texts:\n",
    "        text.set_color('black')\n",
    "    for text in texts:\n",
    "        text.set_fontsize(16)\n",
    "        \n",
    "    for autotext in autotexts:\n",
    "        autotext.set_color('black')\n",
    "    for autotext in autotexts:\n",
    "        autotext.set_fontsize(16) \n",
    "\n",
    "    plt.tight_layout() \n",
    "    \n",
    "    \n",
    "ax = plot_solution(solution_cats, 'Submitted Solutions on Covidtenders.org Per Continent')"
   ]
  },
  {
   "cell_type": "code",
   "execution_count": null,
   "metadata": {},
   "outputs": [],
   "source": [
    "tendersCount_cats = pd.DataFrame(cats.groupby('Name')['Tenders Count'].sum()) \n",
    "submittedCount_cats = pd.DataFrame(cats.groupby('Name')['Submitted Tenders Count'].sum()) \n",
    "submittedCount_cats = submittedCount_cats.reset_index() "
   ]
  },
  {
   "cell_type": "code",
   "execution_count": null,
   "metadata": {},
   "outputs": [],
   "source": [
    "submittedCount_cats"
   ]
  },
  {
   "cell_type": "code",
   "execution_count": null,
   "metadata": {},
   "outputs": [],
   "source": [
    "totalCats = submittedCount_cats.merge(tendersCount_cats,on='Name', how='left')\n",
    "totalCats "
   ]
  },
  {
   "cell_type": "code",
   "execution_count": null,
   "metadata": {},
   "outputs": [],
   "source": [
    "totalCats.loc[3,'Name'] = \"Crisis Management Tool\"\n",
    "totalCats.loc[2,'Name'] = \"Commodity Medical Supply\"\n",
    "totalCats.loc[6,'Name'] = \"Field hospital\"\n",
    "totalCats.loc[8,'Name'] = \"Medication: Antiviral, Therapeutics, Vaccine\" "
   ]
  },
  {
   "cell_type": "code",
   "execution_count": null,
   "metadata": {},
   "outputs": [],
   "source": [
    "totalCats"
   ]
  },
  {
   "cell_type": "code",
   "execution_count": null,
   "metadata": {},
   "outputs": [],
   "source": [
    "def plot_cats(file,title, xlabel, ylabel):\n",
    "    \n",
    "    ax = file.plot('Name',[1,2], \n",
    "                       kind = 'bar',\n",
    "                       ylim = (0, 46), \n",
    "                       title = title,\n",
    "                       figsize = (16,10), \n",
    "                       width = 0.8,\n",
    "                       stacked = False,\n",
    "                      fontsize = 14)   \n",
    "\n",
    "    for p in ax.patches:\n",
    "            ax.annotate(np.round(p.get_height(), decimals=0).astype(np.int64), \n",
    "                        (p.get_x() + p.get_width()/2., p.get_height()), \n",
    "                        ha = 'center', va = 'center', \n",
    "                        xytext = (2, 10), \n",
    "                        textcoords='offset points',\n",
    "                        color = 'slategray')\n",
    "\n",
    "    ax.set_xlabel(xlabel, fontsize = 16)\n",
    "    ax.set_ylabel(ylabel,fontsize = 16) \n",
    "\n",
    "plot_cats(totalCats,'TENDER and SUBMITTED TENDER SOLUTIONS PER CATEGORY',\"Tender Solution\",\"Solution Numbers\") "
   ]
  },
  {
   "cell_type": "code",
   "execution_count": null,
   "metadata": {},
   "outputs": [],
   "source": [
    "df_tender['Budget'] = df_tender['Budget (USD)'].map(\n",
    "    {'10,812,000':10812000, '177,000,000':177000000, '49,600,000':49600000, \n",
    "     '1,986,060':1986060,'26,122,800':26122800, '1,642,800':1642800, \n",
    "     'Undisclosed':0, '609,790':609790, '142.617':142617,'1,116,849':1116849, \n",
    "     '49.203,00 max per project':49203, '2,000,000':2000000,'4.738.797,00':4738797, \n",
    "     'Up to 54,030,00 per project ':54030,'100,000 per solution':100000, \n",
    "     '24,453,100':24453100, '103,962,00':103962, '658,002':658002,'6,385,037':6385037, \n",
    "     '3,985,414':3985414, '- Undisclosed':0,'Between 54.267,00 and 542,464,000 per project':54267, \n",
    "     '12,466,150':12466150,'201,889':201889, '198,281.56':198281.56, '7,459,700':7459700, \n",
    "     '50,000':50000,'Up to $1M per project':1000000, 'A minimum of $250,000':250000,\n",
    "     '10,000 per solution':10000, '163,412':163412, 'Up to $100,000 per program':100000,\n",
    "     '5,000,000':5000000, '1,000,000':1000000, 'Up to $50,000 per project':50000})  "
   ]
  },
  {
   "cell_type": "code",
   "execution_count": null,
   "metadata": {},
   "outputs": [],
   "source": [
    "budget_by_cats = df_tender.groupby(['value'], as_index = False)['Budget'].sum() \n",
    "budget_by_cats['value']"
   ]
  },
  {
   "cell_type": "code",
   "execution_count": null,
   "metadata": {},
   "outputs": [],
   "source": [
    "budget_by_cats.loc[0,'value'] = 'Alerts, Communication' \n",
    "budget_by_cats.loc[1,'value'] = 'Algorithms, AI and Prediction'\n",
    "budget_by_cats.loc[2,'value'] = 'Commodity Medical Supply'\n",
    "budget_by_cats.loc[3,'value'] = 'Crisis Management (HR, IT, Logistics)'\n",
    "budget_by_cats.loc[4,'value'] = 'Diagnosis, Detection and Screening of Virus'\n",
    "budget_by_cats.loc[5,'value'] = 'Medication: Antiviral, Therapeutics, Vaccine'\n",
    "budget_by_cats.loc[7,'value'] = 'Field hospital' \n",
    "budget_by_cats.loc[8,'value'] = 'Support to Medical Care'\n",
    "budget_by_cats.loc[9,'value'] = 'Other'"
   ]
  },
  {
   "cell_type": "code",
   "execution_count": null,
   "metadata": {},
   "outputs": [],
   "source": [
    "cats_sorted = budget_by_cats.sort_values('Budget', ascending = True) \n",
    "cats_sorted = pd.DataFrame(cats_sorted) \n",
    "cats_sorted['Budget'] = cats_sorted['Budget'].astype(int) \n",
    "cats_sorted"
   ]
  },
  {
   "cell_type": "code",
   "execution_count": null,
   "metadata": {},
   "outputs": [],
   "source": [
    "def plot(file, title, ylabel, xlabel):\n",
    "    \n",
    "    fig,ax = plt.subplots(\n",
    "        nrows = 1,\n",
    "        figsize = (18,16),\n",
    "        dpi = 80, \n",
    "        facecolor = 'w', \n",
    "        edgecolor = 'k')\n",
    "    \n",
    "    cats = file[file.columns[0]] \n",
    "    budget = file[file.columns[1]] \n",
    "    ax.tick_params(axis='both', which='major', labelsize=20)  \n",
    "    csfont = {'fontname':'sans-serif'}\n",
    "\n",
    "    ax.get_xaxis().get_major_formatter().set_useOffset(False)\n",
    "    ax.set_title(title, pad=28,fontsize=32, ha=\"center\",**csfont) \n",
    "    plt.axis(aspect='equal')\n",
    "    ax.set_xlim(0, 400000000)\n",
    "    ax.set_xticklabels(np.arange(0, 400000000,50000000)) \n",
    "    plt.ylabel(ylabel,fontsize=28) \n",
    "    plt.xlabel(xlabel,fontsize=28) \n",
    "    plt.barh(cats, budget, color='#544741',align=\"center\",animated=0.8)\n",
    "    \n",
    "    def roundNum(n, decimals=0):\n",
    "        multiplier = 100 ** decimals\n",
    "        \n",
    "        return math.ceil(n * multiplier) / multiplier\n",
    "\n",
    "    for i, v in enumerate(budget):\n",
    "        style = dict(size=12, color='#544741')\n",
    "        ax.text(v, i-0.1, '{0:,.0f}'.format(roundNum(v, -2)), \n",
    "                va='baseline',\n",
    "                ha='left',\n",
    "                **style)\n",
    "    plt.show()  "
   ]
  },
  {
   "cell_type": "code",
   "execution_count": null,
   "metadata": {},
   "outputs": [],
   "source": [
    "plot(cats_sorted, \n",
    "     'COVID Institutional Tenders: Total Budget per Category (World)',\n",
    "     'Category',\n",
    "     'Cumulative Budget (USD) of Tenders') "
   ]
  },
  {
   "cell_type": "code",
   "execution_count": null,
   "metadata": {},
   "outputs": [],
   "source": [
    " "
   ]
  }
 ],
 "metadata": {
  "kernelspec": {
   "display_name": "Python 3",
   "language": "python",
   "name": "python3"
  },
  "language_info": {
   "codemirror_mode": {
    "name": "ipython",
    "version": 3
   },
   "file_extension": ".py",
   "mimetype": "text/x-python",
   "name": "python",
   "nbconvert_exporter": "python",
   "pygments_lexer": "ipython3",
   "version": "3.7.4"
  },
  "varInspector": {
   "cols": {
    "lenName": 16,
    "lenType": 16,
    "lenVar": 40
   },
   "kernels_config": {
    "python": {
     "delete_cmd_postfix": "",
     "delete_cmd_prefix": "del ",
     "library": "var_list.py",
     "varRefreshCmd": "print(var_dic_list())"
    },
    "r": {
     "delete_cmd_postfix": ") ",
     "delete_cmd_prefix": "rm(",
     "library": "var_list.r",
     "varRefreshCmd": "cat(var_dic_list()) "
    }
   },
   "types_to_exclude": [
    "module",
    "function",
    "builtin_function_or_method",
    "instance",
    "_Feature"
   ],
   "window_display": false
  }
 },
 "nbformat": 4,
 "nbformat_minor": 2
}
